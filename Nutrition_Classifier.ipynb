{
  "nbformat": 4,
  "nbformat_minor": 0,
  "metadata": {
    "colab": {
      "provenance": [],
      "authorship_tag": "ABX9TyMVnKHuVJo35Di+mBs4lQ3z"
    },
    "kernelspec": {
      "name": "python3",
      "display_name": "Python 3"
    },
    "language_info": {
      "name": "python"
    }
  },
  "cells": [
    {
      "cell_type": "markdown",
      "source": [
        "**Imports and Dependencies**"
      ],
      "metadata": {
        "id": "uUZU6WBlDodG"
      }
    },
    {
      "cell_type": "code",
      "source": [
        "import pandas as pd\n",
        "from sklearn.preprocessing import LabelEncoder, StandardScaler\n",
        "from google.colab import drive"
      ],
      "metadata": {
        "id": "-ViCOGdjC3qN"
      },
      "execution_count": null,
      "outputs": []
    },
    {
      "cell_type": "markdown",
      "source": [
        "**Prepare data set and preprocess data**\n",
        "- Handle missing values\n",
        "- Encode categorical values\n",
        "- Normalize numerical inputs"
      ],
      "metadata": {
        "id": "m0AmISe1DX8D"
      }
    },
    {
      "cell_type": "code",
      "execution_count": null,
      "metadata": {
        "colab": {
          "base_uri": "https://localhost:8080/"
        },
        "id": "1M2nUI8evnyl",
        "outputId": "43a29baf-3812-4d20-c2f7-b0f1ad079bf0"
      },
      "outputs": [
        {
          "output_type": "stream",
          "name": "stdout",
          "text": [
            "Drive already mounted at /content/drive; to attempt to forcibly remount, call drive.mount(\"/content/drive\", force_remount=True).\n",
            "   Basal_Metabolic_Rate  Dietary_Preferences  Existing_Allergies  Budget  \\\n",
            "0              0.464991                    4                   2       2   \n",
            "1             -0.697486                    0                   0       1   \n",
            "2             -1.278724                    3                   3       0   \n",
            "3              1.627467                    1                   2       3   \n",
            "4             -0.116248                    2                   1       1   \n",
            "\n",
            "   Fasting_Regiment  Health_Goals  \n",
            "0                 1             4  \n",
            "1                 0             1  \n",
            "2                 2             3  \n",
            "3                 1             0  \n",
            "4                 0             2  \n"
          ]
        }
      ],
      "source": [
        "# Mount data\n",
        "drive.mount('/content/drive')\n",
        "pthname = '/content/drive/My Drive/Colab Notebooks/Nutrition Classifier/screening_data.csv'\n",
        "\n",
        "# Create the DataFrame\n",
        "df = pd.read_csv(pthname)\n",
        "\n",
        "# Step 2: Data Preprocessing\n",
        "\n",
        "# Handling missing values (if any)\n",
        "# For this example dataset, there are no missing values, but if you have any, you can handle them like this:\n",
        "# df.fillna(value, inplace=True)\n",
        "\n",
        "# Encode categorical variables (Dietary_Preferences, Existing_Allergies, Budget, Fasting_Regiment, Health_Goals)\n",
        "label_encoder = LabelEncoder()\n",
        "df['Dietary_Preferences'] = label_encoder.fit_transform(df['Dietary_Preferences'])\n",
        "df['Existing_Allergies'] = label_encoder.fit_transform(df['Existing_Allergies'])\n",
        "df['Budget'] = label_encoder.fit_transform(df['Budget'])\n",
        "df['Fasting_Regiment'] = label_encoder.fit_transform(df['Fasting_Regiment'])\n",
        "df['Health_Goals'] = label_encoder.fit_transform(df['Health_Goals'])\n",
        "\n",
        "# Normalize numerical inputs (Basal_Metabolic_Rate)\n",
        "scaler = StandardScaler()\n",
        "df['Basal_Metabolic_Rate'] = scaler.fit_transform(df[['Basal_Metabolic_Rate']])\n",
        "\n",
        "# Display the preprocessed DataFrame\n",
        "print(df)"
      ]
    }
  ]
}